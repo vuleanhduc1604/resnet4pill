{
 "cells": [
  {
   "cell_type": "code",
   "execution_count": 2,
   "metadata": {},
   "outputs": [
    {
     "data": {
      "text/plain": [
       "(count    100.000000\n",
       " mean     120.510000\n",
       " std       30.819283\n",
       " min      102.000000\n",
       " 25%      108.000000\n",
       " 50%      108.000000\n",
       " 75%      123.000000\n",
       " max      267.000000\n",
       " Name: count, dtype: float64,\n",
       " 102,\n",
       " 267)"
      ]
     },
     "execution_count": 2,
     "metadata": {},
     "output_type": "execute_result"
    }
   ],
   "source": [
    "!gown ... # download train data \n",
    "!unzip training.zip\n"
   ]
  },
  {
   "cell_type": "code",
   "execution_count": null,
   "metadata": {},
   "outputs": [],
   "source": []
  },
  {
   "cell_type": "code",
   "execution_count": 10,
   "metadata": {},
   "outputs": [
    {
     "data": {
      "text/plain": [
       "(count    100.000000\n",
       " mean     120.510000\n",
       " std       30.819283\n",
       " min      102.000000\n",
       " 25%      108.000000\n",
       " 50%      108.000000\n",
       " 75%      123.000000\n",
       " max      267.000000\n",
       " Name: count, dtype: float64,\n",
       " 102,\n",
       " 267)"
      ]
     },
     "execution_count": 10,
     "metadata": {},
     "output_type": "execute_result"
    }
   ],
   "source": [
    "# chia kfold\n",
    "\n",
    "import pandas as pd\n",
    "\n",
    "# Load the data from the uploaded file\n",
    "data_path = 'training/labels.txt'\n",
    "data = pd.read_csv(data_path, sep=\" \", header=None, names=[\"image\", \"label\"])\n",
    "# Check the frequency of each label to assess if StratifiedKFold can be used\n",
    "label_counts = data['label'].value_counts()\n",
    "# Show the frequency of labels\n",
    "label_counts.describe(), label_counts.min(), label_counts.max()"
   ]
  },
  {
   "cell_type": "code",
   "execution_count": 11,
   "metadata": {},
   "outputs": [
    {
     "data": {
      "text/plain": [
       "(10, (10845, 2), (1206, 2))"
      ]
     },
     "execution_count": 11,
     "metadata": {},
     "output_type": "execute_result"
    }
   ],
   "source": [
    "from sklearn.model_selection import StratifiedKFold\n",
    "\n",
    "# Prepare the StratifiedKFold with 5 splits\n",
    "skf = StratifiedKFold(n_splits=10, shuffle=True, random_state=100)\n",
    "folds = []\n",
    "\n",
    "# Generate the indices for the 5 folds\n",
    "for train_index, test_index in skf.split(data['image'], data['label']):\n",
    "    folds.append({\n",
    "        \"train\": data.iloc[train_index],\n",
    "        \"test\": data.iloc[test_index]\n",
    "    })\n",
    "\n",
    "# Output the sizes of the first fold as an example\n",
    "len(folds), folds[0]['train'].shape, folds[0]['test'].shape\n"
   ]
  },
  {
   "cell_type": "code",
   "execution_count": 13,
   "metadata": {},
   "outputs": [],
   "source": [
    "for i in range(5,15):\n",
    "    folds[i-5]['train'].to_csv(f'training/fold{i}_train.txt', sep=\" \", header=False, index=False)\n",
    "    folds[i-5]['test'].to_csv(f'training/fold{i}_test.txt', sep=\" \", header=False, index=False)"
   ]
  },
  {
   "cell_type": "code",
   "execution_count": 1,
   "metadata": {},
   "outputs": [],
   "source": [
    "# train \n",
    "!cd resnet4pillImg\n",
    "!python train2.py"
   ]
  },
  {
   "cell_type": "code",
   "execution_count": 8,
   "metadata": {},
   "outputs": [
    {
     "data": {
      "text/plain": [
       "(409, 409)"
      ]
     },
     "execution_count": 8,
     "metadata": {},
     "output_type": "execute_result"
    }
   ],
   "source": []
  },
  {
   "cell_type": "code",
   "execution_count": null,
   "metadata": {},
   "outputs": [],
   "source": []
  }
 ],
 "metadata": {
  "kernelspec": {
   "display_name": "BBDM",
   "language": "python",
   "name": "python3"
  },
  "language_info": {
   "codemirror_mode": {
    "name": "ipython",
    "version": 3
   },
   "file_extension": ".py",
   "mimetype": "text/x-python",
   "name": "python",
   "nbconvert_exporter": "python",
   "pygments_lexer": "ipython3",
   "version": "3.9.16"
  }
 },
 "nbformat": 4,
 "nbformat_minor": 2
}
